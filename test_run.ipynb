{
 "cells": [
  {
   "cell_type": "code",
   "execution_count": 1,
   "id": "08bcb55b",
   "metadata": {},
   "outputs": [],
   "source": [
    "import json"
   ]
  },
  {
   "cell_type": "code",
   "execution_count": 2,
   "id": "65095ae4",
   "metadata": {},
   "outputs": [],
   "source": [
    "import tweepy, keys"
   ]
  },
  {
   "cell_type": "code",
   "execution_count": 3,
   "id": "73106694",
   "metadata": {},
   "outputs": [],
   "source": [
    "import pandas as pd"
   ]
  },
  {
   "cell_type": "code",
   "execution_count": 4,
   "id": "587b976d",
   "metadata": {},
   "outputs": [],
   "source": [
    "from tweetutilities import get_API"
   ]
  },
  {
   "cell_type": "code",
   "execution_count": 5,
   "id": "d7b5bac0",
   "metadata": {},
   "outputs": [],
   "source": [
    "from locationlistener import LocationListener"
   ]
  },
  {
   "cell_type": "code",
   "execution_count": 6,
   "id": "5c96ded5",
   "metadata": {},
   "outputs": [],
   "source": [
    "from pymongo import MongoClient"
   ]
  },
  {
   "cell_type": "code",
   "execution_count": 7,
   "id": "5eda4eca",
   "metadata": {},
   "outputs": [],
   "source": [
    "from tweetutilities import get_geocodes"
   ]
  },
  {
   "cell_type": "code",
   "execution_count": 8,
   "id": "9af6ee2d",
   "metadata": {},
   "outputs": [
    {
     "name": "stderr",
     "output_type": "stream",
     "text": [
      "2021-11-14 17:09:52.504 \n",
      "  \u001b[33m\u001b[1mWarning:\u001b[0m to view this Streamlit app on a browser, run it with the following\n",
      "  command:\n",
      "\n",
      "    streamlit run C:\\Users\\liewg\\anaconda3\\envs\\stockbrew_env\\lib\\site-packages\\ipykernel_launcher.py [ARGUMENTS]\n"
     ]
    },
    {
     "ename": "FileNotFoundError",
     "evalue": "[Errno 2] No such file or directory: 'C:\\\\Users\\\\liewg\\\\Documents\\\\Self Learning\\\\Projects\\\\cryptowatch\\\\.streamlit\\\\secrets.toml'",
     "output_type": "error",
     "traceback": [
      "\u001b[1;31m---------------------------------------------------------------------------\u001b[0m",
      "\u001b[1;31mFileNotFoundError\u001b[0m                         Traceback (most recent call last)",
      "\u001b[1;32m~\\AppData\\Local\\Temp/ipykernel_18396/859937484.py\u001b[0m in \u001b[0;36m<module>\u001b[1;34m\u001b[0m\n\u001b[1;32m----> 1\u001b[1;33m \u001b[0mapi\u001b[0m \u001b[1;33m=\u001b[0m \u001b[0mget_API\u001b[0m\u001b[1;33m(\u001b[0m\u001b[1;33m)\u001b[0m\u001b[1;33m\u001b[0m\u001b[1;33m\u001b[0m\u001b[0m\n\u001b[0m",
      "\u001b[1;32m~\\Documents\\Self Learning\\Projects\\cryptowatch\\tweetutilities.py\u001b[0m in \u001b[0;36mget_API\u001b[1;34m(wait, notify)\u001b[0m\n\u001b[0;32m     11\u001b[0m     \u001b[1;34m\"\"\"Authenticate with Twitter and return API object.\"\"\"\u001b[0m\u001b[1;33m\u001b[0m\u001b[1;33m\u001b[0m\u001b[0m\n\u001b[0;32m     12\u001b[0m     \u001b[1;31m# configure the OAuthHandler\u001b[0m\u001b[1;33m\u001b[0m\u001b[1;33m\u001b[0m\u001b[0m\n\u001b[1;32m---> 13\u001b[1;33m     \u001b[0mauth\u001b[0m \u001b[1;33m=\u001b[0m \u001b[0mtweepy\u001b[0m\u001b[1;33m.\u001b[0m\u001b[0mOAuthHandler\u001b[0m\u001b[1;33m(\u001b[0m\u001b[0mst\u001b[0m\u001b[1;33m.\u001b[0m\u001b[0msecrets\u001b[0m\u001b[1;33m[\u001b[0m\u001b[1;34m\"consumer_key\"\u001b[0m\u001b[1;33m]\u001b[0m\u001b[1;33m,\u001b[0m \u001b[0mst\u001b[0m\u001b[1;33m.\u001b[0m\u001b[0msecrets\u001b[0m\u001b[1;33m[\u001b[0m\u001b[1;34m\"consumer_secret\"\u001b[0m\u001b[1;33m]\u001b[0m\u001b[1;33m)\u001b[0m\u001b[1;33m\u001b[0m\u001b[1;33m\u001b[0m\u001b[0m\n\u001b[0m\u001b[0;32m     14\u001b[0m     \u001b[0mauth\u001b[0m\u001b[1;33m.\u001b[0m\u001b[0mset_access_token\u001b[0m\u001b[1;33m(\u001b[0m\u001b[0mst\u001b[0m\u001b[1;33m.\u001b[0m\u001b[0msecrets\u001b[0m\u001b[1;33m[\u001b[0m\u001b[1;34m\"access_token\"\u001b[0m\u001b[1;33m]\u001b[0m\u001b[1;33m,\u001b[0m \u001b[0mst\u001b[0m\u001b[1;33m.\u001b[0m\u001b[0msecrets\u001b[0m\u001b[1;33m[\u001b[0m\u001b[1;34m\"access_token_secret\"\u001b[0m\u001b[1;33m]\u001b[0m\u001b[1;33m)\u001b[0m\u001b[1;33m\u001b[0m\u001b[1;33m\u001b[0m\u001b[0m\n\u001b[0;32m     15\u001b[0m     \u001b[1;31m# auth = tweepy.OAuthHandler(keys.consumer_key, keys.consumer_secret)\u001b[0m\u001b[1;33m\u001b[0m\u001b[1;33m\u001b[0m\u001b[0m\n",
      "\u001b[1;32m~\\anaconda3\\envs\\stockbrew_env\\lib\\site-packages\\streamlit\\secrets.py\u001b[0m in \u001b[0;36m__getitem__\u001b[1;34m(self, key)\u001b[0m\n\u001b[0;32m    150\u001b[0m \u001b[1;33m\u001b[0m\u001b[0m\n\u001b[0;32m    151\u001b[0m     \u001b[1;32mdef\u001b[0m \u001b[0m__getitem__\u001b[0m\u001b[1;33m(\u001b[0m\u001b[0mself\u001b[0m\u001b[1;33m,\u001b[0m \u001b[0mkey\u001b[0m\u001b[1;33m)\u001b[0m\u001b[1;33m:\u001b[0m\u001b[1;33m\u001b[0m\u001b[1;33m\u001b[0m\u001b[0m\n\u001b[1;32m--> 152\u001b[1;33m         \u001b[1;32mreturn\u001b[0m \u001b[0mself\u001b[0m\u001b[1;33m.\u001b[0m\u001b[0m_parse\u001b[0m\u001b[1;33m(\u001b[0m\u001b[1;32mTrue\u001b[0m\u001b[1;33m)\u001b[0m\u001b[1;33m[\u001b[0m\u001b[0mkey\u001b[0m\u001b[1;33m]\u001b[0m\u001b[1;33m\u001b[0m\u001b[1;33m\u001b[0m\u001b[0m\n\u001b[0m\u001b[0;32m    153\u001b[0m \u001b[1;33m\u001b[0m\u001b[0m\n\u001b[0;32m    154\u001b[0m     \u001b[1;32mdef\u001b[0m \u001b[0m__repr__\u001b[0m\u001b[1;33m(\u001b[0m\u001b[0mself\u001b[0m\u001b[1;33m)\u001b[0m\u001b[1;33m:\u001b[0m\u001b[1;33m\u001b[0m\u001b[1;33m\u001b[0m\u001b[0m\n",
      "\u001b[1;32m~\\anaconda3\\envs\\stockbrew_env\\lib\\site-packages\\streamlit\\secrets.py\u001b[0m in \u001b[0;36m_parse\u001b[1;34m(self, print_exceptions)\u001b[0m\n\u001b[0;32m     87\u001b[0m \u001b[1;33m\u001b[0m\u001b[0m\n\u001b[0;32m     88\u001b[0m             \u001b[1;32mtry\u001b[0m\u001b[1;33m:\u001b[0m\u001b[1;33m\u001b[0m\u001b[1;33m\u001b[0m\u001b[0m\n\u001b[1;32m---> 89\u001b[1;33m                 \u001b[1;32mwith\u001b[0m \u001b[0mopen\u001b[0m\u001b[1;33m(\u001b[0m\u001b[0mself\u001b[0m\u001b[1;33m.\u001b[0m\u001b[0m_file_path\u001b[0m\u001b[1;33m,\u001b[0m \u001b[0mencoding\u001b[0m\u001b[1;33m=\u001b[0m\u001b[1;34m\"utf-8\"\u001b[0m\u001b[1;33m)\u001b[0m \u001b[1;32mas\u001b[0m \u001b[0mf\u001b[0m\u001b[1;33m:\u001b[0m\u001b[1;33m\u001b[0m\u001b[1;33m\u001b[0m\u001b[0m\n\u001b[0m\u001b[0;32m     90\u001b[0m                     \u001b[0msecrets_file_str\u001b[0m \u001b[1;33m=\u001b[0m \u001b[0mf\u001b[0m\u001b[1;33m.\u001b[0m\u001b[0mread\u001b[0m\u001b[1;33m(\u001b[0m\u001b[1;33m)\u001b[0m\u001b[1;33m\u001b[0m\u001b[1;33m\u001b[0m\u001b[0m\n\u001b[0;32m     91\u001b[0m             \u001b[1;32mexcept\u001b[0m \u001b[0mFileNotFoundError\u001b[0m\u001b[1;33m:\u001b[0m\u001b[1;33m\u001b[0m\u001b[1;33m\u001b[0m\u001b[0m\n",
      "\u001b[1;31mFileNotFoundError\u001b[0m: [Errno 2] No such file or directory: 'C:\\\\Users\\\\liewg\\\\Documents\\\\Self Learning\\\\Projects\\\\cryptowatch\\\\.streamlit\\\\secrets.toml'"
     ]
    }
   ],
   "source": [
    "api = get_API()"
   ]
  },
  {
   "cell_type": "code",
   "execution_count": 9,
   "id": "46de408f",
   "metadata": {},
   "outputs": [],
   "source": [
    "tweets = [] "
   ]
  },
  {
   "cell_type": "code",
   "execution_count": null,
   "id": "58d1f723",
   "metadata": {},
   "outputs": [],
   "source": [
    "counts = {'total_tweets': 0, 'locations': 0}"
   ]
  },
  {
   "cell_type": "code",
   "execution_count": 10,
   "id": "e048417c",
   "metadata": {},
   "outputs": [],
   "source": [
    "atlas_client = MongoClient(keys.mongo_connection_string)"
   ]
  },
  {
   "cell_type": "code",
   "execution_count": 11,
   "id": "74a0dd13",
   "metadata": {},
   "outputs": [],
   "source": [
    "db = atlas_client.crypto"
   ]
  },
  {
   "cell_type": "code",
   "execution_count": null,
   "id": "e2730546",
   "metadata": {},
   "outputs": [],
   "source": [
    "location_listener = LocationListener(api, counts_dict=counts, \r\n",
    "    tweets_list=tweets, topic='bitcoin', database = db, limit=10)"
   ]
  },
  {
   "cell_type": "code",
   "execution_count": null,
   "id": "a48c2b38",
   "metadata": {},
   "outputs": [],
   "source": [
    "stream = tweepy.Stream(auth=api.auth, listener=location_listener)"
   ]
  },
  {
   "cell_type": "code",
   "execution_count": null,
   "id": "01683d10",
   "metadata": {},
   "outputs": [],
   "source": [
    "stream.filter(track=['bitcoin'], languages=['en'], is_async=False)  "
   ]
  },
  {
   "cell_type": "code",
   "execution_count": null,
   "id": "a4374386",
   "metadata": {},
   "outputs": [],
   "source": [
    "counts['total_tweets']"
   ]
  },
  {
   "cell_type": "code",
   "execution_count": null,
   "id": "bdde70c6",
   "metadata": {},
   "outputs": [],
   "source": [
    "counts['locations']"
   ]
  },
  {
   "cell_type": "code",
   "execution_count": null,
   "id": "e975560f",
   "metadata": {},
   "outputs": [],
   "source": [
    "bad_locations = get_geocodes(tweets)"
   ]
  },
  {
   "cell_type": "code",
   "execution_count": null,
   "id": "e29d9de8",
   "metadata": {},
   "outputs": [],
   "source": [
    "bad_locations"
   ]
  },
  {
   "cell_type": "code",
   "execution_count": null,
   "id": "d95fedc5",
   "metadata": {
    "tags": []
   },
   "outputs": [],
   "source": [
    "tweets"
   ]
  },
  {
   "cell_type": "code",
   "execution_count": null,
   "id": "e536b41a",
   "metadata": {
    "tags": []
   },
   "outputs": [],
   "source": [
    "df = pd.DataFrame(tweets)"
   ]
  },
  {
   "cell_type": "code",
   "execution_count": null,
   "id": "bc525a67",
   "metadata": {},
   "outputs": [],
   "source": [
    "df = df.dropna()"
   ]
  },
  {
   "cell_type": "code",
   "execution_count": null,
   "id": "88dfa040",
   "metadata": {},
   "outputs": [],
   "source": [
    "df"
   ]
  },
  {
   "cell_type": "code",
   "execution_count": null,
   "id": "c25f16ff",
   "metadata": {},
   "outputs": [],
   "source": [
    "tt_dict = df.to_dict('records')"
   ]
  },
  {
   "cell_type": "code",
   "execution_count": null,
   "id": "23234348",
   "metadata": {},
   "outputs": [],
   "source": [
    "tt_dict"
   ]
  },
  {
   "cell_type": "code",
   "execution_count": null,
   "id": "a886b4f6",
   "metadata": {},
   "outputs": [],
   "source": [
    "for t in tt_dict:\r\n",
    "    json_object = json.dumps(t)\r\n",
    "    json_data = json.loads(json_object)  # convert string to JSON\r\n",
    "    db.bitcoin.insert_one(json_data)  # store in tweets collection"
   ]
  },
  {
   "cell_type": "code",
   "execution_count": null,
   "id": "a41508d9",
   "metadata": {},
   "outputs": [],
   "source": [
    "db_df = pd.DataFrame(list(db.bitcoin.find()))"
   ]
  },
  {
   "cell_type": "code",
   "execution_count": null,
   "id": "23eee987",
   "metadata": {},
   "outputs": [],
   "source": [
    "db_df"
   ]
  },
  {
   "cell_type": "code",
   "execution_count": null,
   "id": "d0054502",
   "metadata": {},
   "outputs": [],
   "source": [
    "db_df.sort_values('created_at')"
   ]
  },
  {
   "cell_type": "code",
   "execution_count": null,
   "id": "125f95b1",
   "metadata": {},
   "outputs": [],
   "source": [
    "location = 'Mars'"
   ]
  },
  {
   "cell_type": "code",
   "execution_count": null,
   "id": "b71ab1f8",
   "metadata": {},
   "outputs": [],
   "source": [
    "db_location = db_df[db_df['location']==location]"
   ]
  },
  {
   "cell_type": "code",
   "execution_count": null,
   "id": "243d5ce5",
   "metadata": {},
   "outputs": [],
   "source": [
    "db_location"
   ]
  },
  {
   "cell_type": "code",
   "execution_count": null,
   "id": "f04872ca",
   "metadata": {},
   "outputs": [],
   "source": [
    "import folium"
   ]
  },
  {
   "cell_type": "code",
   "execution_count": null,
   "id": "cc01c84e",
   "metadata": {},
   "outputs": [],
   "source": [
    "usmap = folium.Map(location=[39.8283, -98.5795], \r\n",
    "                    zoom_start=5, detect_retina=True)"
   ]
  },
  {
   "cell_type": "code",
   "execution_count": null,
   "id": "00110bee",
   "metadata": {},
   "outputs": [],
   "source": [
    "for t in db_df.itertuples():\r\n",
    "     # text = ': '.join([t.screen_name, t.text, t.created_at])\r\n",
    "     text = f'{t.screen_name}: {t.text}, Created at: {t.created_at}'\r\n",
    "     popup = folium.Popup(text, parse_html=True)\r\n",
    "     marker = folium.Marker((t.latitude, t.longitude), \r\n",
    "                            popup=popup)\r\n",
    "     marker.add_to(usmap)"
   ]
  },
  {
   "cell_type": "code",
   "execution_count": null,
   "id": "e77d8f40",
   "metadata": {},
   "outputs": [],
   "source": [
    "usmap"
   ]
  },
  {
   "cell_type": "code",
   "execution_count": null,
   "id": "b40478fc-748a-45da-ae90-d9c3c465b39b",
   "metadata": {},
   "outputs": [],
   "source": []
  }
 ],
 "metadata": {
  "kernelspec": {
   "display_name": "Python 3 (ipykernel)",
   "language": "python",
   "name": "python3"
  },
  "language_info": {
   "codemirror_mode": {
    "name": "ipython",
    "version": 3
   },
   "file_extension": ".py",
   "mimetype": "text/x-python",
   "name": "python",
   "nbconvert_exporter": "python",
   "pygments_lexer": "ipython3",
   "version": "3.9.7"
  }
 },
 "nbformat": 4,
 "nbformat_minor": 5
}
