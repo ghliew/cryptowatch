{
 "cells": [
  {
   "cell_type": "code",
   "execution_count": 3,
   "id": "8d564ccb-85f2-452b-bffb-107cb648ef78",
   "metadata": {},
   "outputs": [],
   "source": [
    "import json"
   ]
  },
  {
   "cell_type": "code",
   "execution_count": 4,
   "id": "bbb3def5-a7fd-4c75-a9c2-595aca542834",
   "metadata": {},
   "outputs": [],
   "source": [
    "import tweepy, keys"
   ]
  },
  {
   "cell_type": "code",
   "execution_count": 5,
   "id": "e248830b-ad6f-490c-af30-46bdcb89e094",
   "metadata": {},
   "outputs": [],
   "source": [
    "import pandas as pd"
   ]
  },
  {
   "cell_type": "code",
   "execution_count": 6,
   "id": "65832908-023b-43d1-b756-b8aa1118c908",
   "metadata": {},
   "outputs": [],
   "source": [
    "from tweetutilities import get_API"
   ]
  },
  {
   "cell_type": "code",
   "execution_count": 7,
   "id": "428ce399-8678-4771-bb32-545c8bf50966",
   "metadata": {},
   "outputs": [],
   "source": [
    "from locationlistener import LocationListener"
   ]
  },
  {
   "cell_type": "code",
   "execution_count": 8,
   "id": "64239b12-e73e-4ce0-a7ae-fa521f309806",
   "metadata": {},
   "outputs": [],
   "source": [
    "from pymongo import MongoClient"
   ]
  },
  {
   "cell_type": "code",
   "execution_count": 9,
   "id": "673f703c-f00b-4d0e-bc50-2a8f22a1cc90",
   "metadata": {},
   "outputs": [],
   "source": [
    "from tweetutilities import get_geocodes"
   ]
  },
  {
   "cell_type": "code",
   "execution_count": null,
   "id": "c851fc92-7437-4227-a437-8d885d5982d5",
   "metadata": {},
   "outputs": [],
   "source": [
    "api = get_API()"
   ]
  },
  {
   "cell_type": "code",
   "execution_count": null,
   "id": "10089b41-4c45-4de9-9769-aa0c7a62dd3c",
   "metadata": {},
   "outputs": [],
   "source": [
    "tweets = [] "
   ]
  },
  {
   "cell_type": "code",
   "execution_count": null,
   "id": "52db9662-310d-49cd-be5f-9daeae0bf0bb",
   "metadata": {},
   "outputs": [],
   "source": [
    "counts = {'total_tweets': 0, 'locations': 0}"
   ]
  },
  {
   "cell_type": "code",
   "execution_count": null,
   "id": "fe49d069-4333-4652-aabe-10af4f10f126",
   "metadata": {},
   "outputs": [],
   "source": [
    "atlas_client = MongoClient(keys.mongo_connection_string)"
   ]
  },
  {
   "cell_type": "code",
   "execution_count": null,
   "id": "3af0f02a-ebee-4999-ab28-f9c60dc5255c",
   "metadata": {},
   "outputs": [],
   "source": [
    "db = atlas_client.demo "
   ]
  },
  {
   "cell_type": "code",
   "execution_count": null,
   "id": "b68caa2d-678c-4fae-86f4-a5a431276975",
   "metadata": {},
   "outputs": [],
   "source": [
    "location_listener = LocationListener(api, counts_dict=counts, \n",
    "    tweets_list=tweets, topic='bitcoin', database = db, limit=10)"
   ]
  },
  {
   "cell_type": "code",
   "execution_count": null,
   "id": "5914c993-aed7-43ab-80c2-a3eda1a51f16",
   "metadata": {},
   "outputs": [],
   "source": [
    "stream = tweepy.Stream(auth=api.auth, listener=location_listener)"
   ]
  },
  {
   "cell_type": "code",
   "execution_count": null,
   "id": "f853a9af-b9fe-4af5-9d7c-7a68957b29bc",
   "metadata": {},
   "outputs": [],
   "source": [
    "stream.filter(track=['bitcoin'], languages=['en'], is_async=False)  "
   ]
  },
  {
   "cell_type": "code",
   "execution_count": null,
   "id": "be4399ff-29e6-4f7b-a793-161b7958259e",
   "metadata": {},
   "outputs": [],
   "source": [
    "counts['total_tweets']"
   ]
  },
  {
   "cell_type": "code",
   "execution_count": null,
   "id": "c334de2d-9852-4fcc-86c8-d390beeb06d3",
   "metadata": {},
   "outputs": [],
   "source": [
    "counts['locations']"
   ]
  },
  {
   "cell_type": "code",
   "execution_count": null,
   "id": "cf2be3bd-3a0b-42ce-bec5-bd0c2ab7a25d",
   "metadata": {},
   "outputs": [],
   "source": [
    "bad_locations = get_geocodes(tweets)"
   ]
  },
  {
   "cell_type": "code",
   "execution_count": null,
   "id": "fbbcb593-726f-457b-8db6-ccc7f6edb866",
   "metadata": {},
   "outputs": [],
   "source": [
    "bad_locations"
   ]
  },
  {
   "cell_type": "code",
   "execution_count": null,
   "id": "ac37739f-3942-4d43-8805-492e3bd2f410",
   "metadata": {
    "tags": []
   },
   "outputs": [],
   "source": [
    "tweets"
   ]
  },
  {
   "cell_type": "code",
   "execution_count": null,
   "id": "bae0bcee-b5f6-4ed6-b9b4-88190b1435ea",
   "metadata": {
    "tags": []
   },
   "outputs": [],
   "source": [
    "df = pd.DataFrame(tweets)"
   ]
  },
  {
   "cell_type": "code",
   "execution_count": null,
   "id": "e003b3e4-c280-460a-baa1-97d979780a11",
   "metadata": {},
   "outputs": [],
   "source": [
    "df = df.dropna()"
   ]
  },
  {
   "cell_type": "code",
   "execution_count": null,
   "id": "102dce05-ca19-463b-80e3-2648b5580107",
   "metadata": {},
   "outputs": [],
   "source": [
    "df"
   ]
  },
  {
   "cell_type": "code",
   "execution_count": null,
   "id": "13fba5fd-a433-4b8c-83e2-0286f2de061b",
   "metadata": {},
   "outputs": [],
   "source": [
    "tt_dict = df.to_dict('records')"
   ]
  },
  {
   "cell_type": "code",
   "execution_count": null,
   "id": "bc25145e-7def-4727-ba3c-cbda556e7780",
   "metadata": {},
   "outputs": [],
   "source": [
    "tt_dict"
   ]
  },
  {
   "cell_type": "code",
   "execution_count": null,
   "id": "042a8296-9275-4839-812f-e7e708c301ac",
   "metadata": {},
   "outputs": [],
   "source": [
    "for t in tt_dict:\n",
    "    json_object = json.dumps(t)\n",
    "    json_data = json.loads(json_object)  # convert string to JSON\n",
    "    db.bitcoin.insert_one(json_data)  # store in tweets collection"
   ]
  },
  {
   "cell_type": "code",
   "execution_count": null,
   "id": "d60c9a7a-234a-47b4-9209-5c9ff2582581",
   "metadata": {},
   "outputs": [],
   "source": [
    "db_df = pd.DataFrame(list(db.bitcoin.find()))"
   ]
  },
  {
   "cell_type": "code",
   "execution_count": null,
   "id": "5780dd2d-09e3-4c2c-b31e-cb2c535ec209",
   "metadata": {},
   "outputs": [],
   "source": [
    "db_df"
   ]
  },
  {
   "cell_type": "code",
   "execution_count": null,
   "id": "9cef3274-28f8-4888-99b8-c2251adac9a7",
   "metadata": {},
   "outputs": [],
   "source": [
    "db_df.sort_values('created_at')"
   ]
  },
  {
   "cell_type": "code",
   "execution_count": null,
   "id": "85241d48-6697-41b4-85cf-6a39adaa6636",
   "metadata": {},
   "outputs": [],
   "source": [
    "location = 'Mars'"
   ]
  },
  {
   "cell_type": "code",
   "execution_count": null,
   "id": "3afa60de-4ff7-4add-bb72-8d4c30678929",
   "metadata": {},
   "outputs": [],
   "source": [
    "db_location = db_df[db_df['location']==location]"
   ]
  },
  {
   "cell_type": "code",
   "execution_count": null,
   "id": "1f509520-1ccf-4712-8a5f-9a302e73aff7",
   "metadata": {},
   "outputs": [],
   "source": [
    "db_location"
   ]
  },
  {
   "cell_type": "code",
   "execution_count": null,
   "id": "f6a41cfd-e802-411a-8d32-7bbb06565bb4",
   "metadata": {},
   "outputs": [],
   "source": [
    "import folium"
   ]
  },
  {
   "cell_type": "code",
   "execution_count": null,
   "id": "37ebff03-d2cd-4e41-bec7-ca3182393ae2",
   "metadata": {},
   "outputs": [],
   "source": [
    "usmap = folium.Map(location=[39.8283, -98.5795], \n",
    "                    zoom_start=5, detect_retina=True)"
   ]
  },
  {
   "cell_type": "code",
   "execution_count": null,
   "id": "ff6c933b-f397-4d06-8185-224f93959080",
   "metadata": {},
   "outputs": [],
   "source": [
    "for t in db_df.itertuples():\n",
    "     # text = ': '.join([t.screen_name, t.text, t.created_at])\n",
    "     text = f'{t.screen_name}: {t.text}, Created at: {t.created_at}'\n",
    "     popup = folium.Popup(text, parse_html=True)\n",
    "     marker = folium.Marker((t.latitude, t.longitude), \n",
    "                            popup=popup)\n",
    "     marker.add_to(usmap)"
   ]
  },
  {
   "cell_type": "code",
   "execution_count": null,
   "id": "6ff8135f-1b77-47e1-8552-1b156f8a988f",
   "metadata": {},
   "outputs": [],
   "source": [
    "usmap"
   ]
  },
  {
   "cell_type": "code",
   "execution_count": null,
   "id": "d8758031-d280-489f-962a-be3cd3aab279",
   "metadata": {},
   "outputs": [],
   "source": []
  },
  {
   "cell_type": "code",
   "execution_count": 10,
   "id": "5d1c45a6-09c7-4543-ab46-428c7a1198dc",
   "metadata": {},
   "outputs": [],
   "source": [
    "atlas_client = MongoClient(keys.mongo_connection_string)\n",
    "db = atlas_client.crypto "
   ]
  },
  {
   "cell_type": "code",
   "execution_count": 11,
   "id": "2c1a7fc1-24eb-4155-9825-c8af22ec5dd1",
   "metadata": {},
   "outputs": [],
   "source": [
    " crypto_df = pd.DataFrame(list(db.tweets.find()))"
   ]
  },
  {
   "cell_type": "code",
   "execution_count": 12,
   "id": "b66b01c0-ce82-4ff3-9e1a-9986bddf2453",
   "metadata": {},
   "outputs": [
    {
     "data": {
      "text/html": [
       "<div>\n",
       "<style scoped>\n",
       "    .dataframe tbody tr th:only-of-type {\n",
       "        vertical-align: middle;\n",
       "    }\n",
       "\n",
       "    .dataframe tbody tr th {\n",
       "        vertical-align: top;\n",
       "    }\n",
       "\n",
       "    .dataframe thead th {\n",
       "        text-align: right;\n",
       "    }\n",
       "</style>\n",
       "<table border=\"1\" class=\"dataframe\">\n",
       "  <thead>\n",
       "    <tr style=\"text-align: right;\">\n",
       "      <th></th>\n",
       "      <th>_id</th>\n",
       "      <th>crypto</th>\n",
       "      <th>screen_name</th>\n",
       "      <th>created_at</th>\n",
       "      <th>text</th>\n",
       "      <th>location</th>\n",
       "      <th>latitude</th>\n",
       "      <th>longitude</th>\n",
       "    </tr>\n",
       "  </thead>\n",
       "  <tbody>\n",
       "    <tr>\n",
       "      <th>0</th>\n",
       "      <td>61548492dd68e2158f3d6cd2</td>\n",
       "      <td>Bitcoin</td>\n",
       "      <td>Gh4nder</td>\n",
       "      <td>09/29/2021, 15:21:47</td>\n",
       "      <td>@BuckPerley ,\\n\\nGreat job differentiating Bit...</td>\n",
       "      <td>Texas, USA</td>\n",
       "      <td>31.816038</td>\n",
       "      <td>-99.512099</td>\n",
       "    </tr>\n",
       "    <tr>\n",
       "      <th>1</th>\n",
       "      <td>61548494dd68e2158f3d6cd3</td>\n",
       "      <td>Bitcoin</td>\n",
       "      <td>KathrynMcD97</td>\n",
       "      <td>09/29/2021, 15:21:49</td>\n",
       "      <td>@pulte Wish I had some Bitcoin.</td>\n",
       "      <td>Texas</td>\n",
       "      <td>31.816038</td>\n",
       "      <td>-99.512099</td>\n",
       "    </tr>\n",
       "  </tbody>\n",
       "</table>\n",
       "</div>"
      ],
      "text/plain": [
       "                        _id   crypto   screen_name            created_at  \\\n",
       "0  61548492dd68e2158f3d6cd2  Bitcoin       Gh4nder  09/29/2021, 15:21:47   \n",
       "1  61548494dd68e2158f3d6cd3  Bitcoin  KathrynMcD97  09/29/2021, 15:21:49   \n",
       "\n",
       "                                                text    location   latitude  \\\n",
       "0  @BuckPerley ,\\n\\nGreat job differentiating Bit...  Texas, USA  31.816038   \n",
       "1                    @pulte Wish I had some Bitcoin.       Texas  31.816038   \n",
       "\n",
       "   longitude  \n",
       "0 -99.512099  \n",
       "1 -99.512099  "
      ]
     },
     "execution_count": 12,
     "metadata": {},
     "output_type": "execute_result"
    }
   ],
   "source": [
    "crypto_df"
   ]
  },
  {
   "cell_type": "code",
   "execution_count": null,
   "id": "55cef638-a36c-4ab8-8937-de2adb850f28",
   "metadata": {},
   "outputs": [],
   "source": []
  }
 ],
 "metadata": {
  "kernelspec": {
   "display_name": "Python 3 (ipykernel)",
   "language": "python",
   "name": "python3"
  },
  "language_info": {
   "codemirror_mode": {
    "name": "ipython",
    "version": 3
   },
   "file_extension": ".py",
   "mimetype": "text/x-python",
   "name": "python",
   "nbconvert_exporter": "python",
   "pygments_lexer": "ipython3",
   "version": "3.9.7"
  }
 },
 "nbformat": 4,
 "nbformat_minor": 5
}
